{
 "cells": [
  {
   "cell_type": "markdown",
   "id": "37ffdc26",
   "metadata": {},
   "source": [
    "1.Create a 2D numpy array with 5x5 elements and store it in .npy file and display. "
   ]
  },
  {
   "cell_type": "code",
   "execution_count": 1,
   "id": "e6d14087",
   "metadata": {},
   "outputs": [],
   "source": [
    "import numpy as np"
   ]
  },
  {
   "cell_type": "code",
   "execution_count": 2,
   "id": "8b134476",
   "metadata": {},
   "outputs": [],
   "source": [
    "data = ([[0.864, 0.625, 0.256, 0.843, 0.546],\n",
    "        [0.756, 0.457, 0.954, 0.321, 0.486,],\n",
    "        [0.523, 0.667, 0.888, 0.355, 0.974],\n",
    "        [0.412, 0.984, 0.461, 0.963, 0.841],\n",
    "        [0.486, 0.951, 0.123, 0.753, 0.159]])"
   ]
  },
  {
   "cell_type": "code",
   "execution_count": 3,
   "id": "c1f3fe43",
   "metadata": {},
   "outputs": [],
   "source": [
    "np.save('binary_data',data)"
   ]
  },
  {
   "cell_type": "code",
   "execution_count": 4,
   "id": "60016f2a",
   "metadata": {},
   "outputs": [
    {
     "data": {
      "text/plain": [
       "array([[0.864, 0.625, 0.256, 0.843, 0.546],\n",
       "       [0.756, 0.457, 0.954, 0.321, 0.486],\n",
       "       [0.523, 0.667, 0.888, 0.355, 0.974],\n",
       "       [0.412, 0.984, 0.461, 0.963, 0.841],\n",
       "       [0.486, 0.951, 0.123, 0.753, 0.159]])"
      ]
     },
     "execution_count": 4,
     "metadata": {},
     "output_type": "execute_result"
    }
   ],
   "source": [
    "loaded_data = np.load('binary_data.npy')\n",
    "loaded_data"
   ]
  },
  {
   "cell_type": "markdown",
   "id": "aeb736fc",
   "metadata": {},
   "source": [
    "2.Create a .csv file in the name demo and store reg.no, name, section, mark1, mark2, mark3 values of 10 students."
   ]
  },
  {
   "cell_type": "code",
   "execution_count": 5,
   "id": "d70540d8",
   "metadata": {},
   "outputs": [
    {
     "data": {
      "text/plain": [
       "''"
      ]
     },
     "execution_count": 5,
     "metadata": {},
     "output_type": "execute_result"
    }
   ],
   "source": [
    "a = np.array(\"Gopala,Gokul,Prasoon,Sanjeev,Sravan,Praveen,Bhuvan,Varun,Teja,Althi\".split(','))\n",
    "b= list(np.array(('D2,'*10).split(',')))\n",
    "mark1 =  np.random.randint(100,size=(10,))\n",
    "mark2 =  np.random.randint(100,size=(10,))\n",
    "mark3 =  np.random.randint(100,size=(10,))\n",
    "b.pop()"
   ]
  },
  {
   "cell_type": "code",
   "execution_count": 6,
   "id": "f8317261",
   "metadata": {},
   "outputs": [
    {
     "data": {
      "text/plain": [
       "array([[['Gopala', 'Gokul', 'Prasoon', 'Sanjeev', 'Sravan', 'Praveen',\n",
       "         'Bhuvan', 'Varun', 'Teja', 'Althi']],\n",
       "\n",
       "       [['D2', 'D2', 'D2', 'D2', 'D2', 'D2', 'D2', 'D2', 'D2', 'D2']],\n",
       "\n",
       "       [['98', '0', '77', '26', '71', '94', '94', '39', '19', '55']],\n",
       "\n",
       "       [['56', '45', '65', '87', '60', '24', '27', '27', '58', '56']],\n",
       "\n",
       "       [['15', '4', '52', '49', '17', '94', '90', '84', '84', '66']]],\n",
       "      dtype='<U11')"
      ]
     },
     "execution_count": 6,
     "metadata": {},
     "output_type": "execute_result"
    }
   ],
   "source": [
    "data = np.array([[a],[b],[mark1],[mark2],[mark3]])\n",
    "data"
   ]
  },
  {
   "cell_type": "code",
   "execution_count": 7,
   "id": "84764161",
   "metadata": {},
   "outputs": [
    {
     "data": {
      "text/plain": [
       "(5, 1, 10)"
      ]
     },
     "execution_count": 7,
     "metadata": {},
     "output_type": "execute_result"
    }
   ],
   "source": [
    "data.shape"
   ]
  },
  {
   "cell_type": "code",
   "execution_count": 8,
   "id": "1dba41b9",
   "metadata": {},
   "outputs": [
    {
     "data": {
      "text/plain": [
       "array([['Gopala', 'D2', '98', '56', '15'],\n",
       "       ['Gokul', 'D2', '0', '45', '4'],\n",
       "       ['Prasoon', 'D2', '77', '65', '52'],\n",
       "       ['Sanjeev', 'D2', '26', '87', '49'],\n",
       "       ['Sravan', 'D2', '71', '60', '17'],\n",
       "       ['Praveen', 'D2', '94', '24', '94'],\n",
       "       ['Bhuvan', 'D2', '94', '27', '90'],\n",
       "       ['Varun', 'D2', '39', '27', '84'],\n",
       "       ['Teja', 'D2', '19', '58', '84'],\n",
       "       ['Althi', 'D2', '55', '56', '66']], dtype='<U11')"
      ]
     },
     "execution_count": 8,
     "metadata": {},
     "output_type": "execute_result"
    }
   ],
   "source": [
    "data_stu = data.reshape(5,10)\n",
    "data_stu.T"
   ]
  },
  {
   "cell_type": "code",
   "execution_count": 9,
   "id": "5e876974",
   "metadata": {},
   "outputs": [],
   "source": [
    "csv_rows = [\"{},{},{},{},{}\".format(i, j, k,m,n) for i, j, k, m, n in data_stu.T]\n",
    "csv_text = \"\\n\".join(csv_rows)\n",
    "\n",
    "with open('demo.csv', 'w') as f:\n",
    "    f.write(csv_text)"
   ]
  },
  {
   "cell_type": "code",
   "execution_count": 10,
   "id": "773c99b1",
   "metadata": {},
   "outputs": [
    {
     "data": {
      "text/plain": [
       "<function TextIOWrapper.close()>"
      ]
     },
     "execution_count": 10,
     "metadata": {},
     "output_type": "execute_result"
    }
   ],
   "source": [
    "f.close"
   ]
  },
  {
   "cell_type": "markdown",
   "id": "f9c69eb5",
   "metadata": {},
   "source": [
    "3.Load the demo.csv file content into numpy array."
   ]
  },
  {
   "cell_type": "code",
   "execution_count": 11,
   "id": "904619dc",
   "metadata": {},
   "outputs": [],
   "source": [
    "with open('demo.csv','r') as f:\n",
    "    txt  = f.readlines()"
   ]
  },
  {
   "cell_type": "code",
   "execution_count": 12,
   "id": "59a74653",
   "metadata": {},
   "outputs": [
    {
     "data": {
      "text/plain": [
       "array([['Gokul', 'D2', '0', '45', '4'],\n",
       "       ['Prasoon', 'D2', '77', '65', '52'],\n",
       "       ['Sanjeev', 'D2', '26', '87', '49'],\n",
       "       ['Sravan', 'D2', '71', '60', '17'],\n",
       "       ['Praveen', 'D2', '94', '24', '94'],\n",
       "       ['Bhuvan', 'D2', '94', '27', '90'],\n",
       "       ['Varun', 'D2', '39', '27', '84'],\n",
       "       ['Teja', 'D2', '19', '58', '84'],\n",
       "       ['Althi', 'D2', '55', '56', '66']], dtype='<U7')"
      ]
     },
     "execution_count": 12,
     "metadata": {},
     "output_type": "execute_result"
    }
   ],
   "source": [
    "data = np.genfromtxt('demo.csv',delimiter=\",\",skip_header=True,dtype =str)\n",
    "data"
   ]
  },
  {
   "cell_type": "code",
   "execution_count": null,
   "id": "5d1cd0a0",
   "metadata": {},
   "outputs": [],
   "source": []
  }
 ],
 "metadata": {
  "kernelspec": {
   "display_name": "Python 3 (ipykernel)",
   "language": "python",
   "name": "python3"
  },
  "language_info": {
   "codemirror_mode": {
    "name": "ipython",
    "version": 3
   },
   "file_extension": ".py",
   "mimetype": "text/x-python",
   "name": "python",
   "nbconvert_exporter": "python",
   "pygments_lexer": "ipython3",
   "version": "3.9.7"
  }
 },
 "nbformat": 4,
 "nbformat_minor": 5
}
