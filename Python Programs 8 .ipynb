{
 "cells": [
  {
   "cell_type": "markdown",
   "id": "400735c9",
   "metadata": {},
   "source": [
    "1.Create a .csv file with data given below and read it as dataframe - white,red,blue,green,animal\n"
   ]
  },
  {
   "cell_type": "code",
   "execution_count": 1,
   "id": "7e5fa039",
   "metadata": {},
   "outputs": [
    {
     "name": "stdout",
     "output_type": "stream",
     "text": [
      "   white  red  blue  green animal\n",
      "0      1  5.0   2.0      3    cat\n",
      "1      2  7.0   8.0      5    dog\n",
      "2      3  NaN   6.0      7  horse\n",
      "3      4  5.0   6.0      7   duck\n",
      "4      9  NaN   NaN      6  mouse\n",
      "5      9  8.0   7.0      6  mouse\n",
      "6      9  8.0   7.0      6  mouse\n"
     ]
    }
   ],
   "source": [
    "import pandas as pd \n",
    "df = pd.read_csv('animal.csv')\n",
    "print(df)"
   ]
  },
  {
   "cell_type": "code",
   "execution_count": 2,
   "id": "84974bdb",
   "metadata": {},
   "outputs": [
    {
     "data": {
      "text/plain": [
       "1"
      ]
     },
     "execution_count": 2,
     "metadata": {},
     "output_type": "execute_result"
    }
   ],
   "source": [
    "#a\n",
    "df['blue'].isna().sum()"
   ]
  },
  {
   "cell_type": "code",
   "execution_count": 3,
   "id": "c0616fe4",
   "metadata": {},
   "outputs": [
    {
     "name": "stdout",
     "output_type": "stream",
     "text": [
      "   white  red  blue  green animal\n",
      "0      1  5.0   2.0      3    cat\n",
      "1      2  7.0   8.0      5    dog\n",
      "2      3  NaN   6.0      7  horse\n",
      "3      4  5.0   6.0      7   duck\n",
      "4      9  NaN   6.5      6  mouse\n",
      "5      9  8.0   7.0      6  mouse\n",
      "6      9  8.0   7.0      6  mouse\n"
     ]
    }
   ],
   "source": [
    "df['blue'].fillna(df['blue'].median(), inplace=True)\n",
    "print(df)"
   ]
  },
  {
   "cell_type": "code",
   "execution_count": 4,
   "id": "2f160af6",
   "metadata": {},
   "outputs": [
    {
     "data": {
      "text/plain": [
       "animal\n",
       "cat      2.000000\n",
       "dog      8.000000\n",
       "duck     6.000000\n",
       "horse    6.000000\n",
       "mouse    6.833333\n",
       "Name: blue, dtype: float64"
      ]
     },
     "execution_count": 4,
     "metadata": {},
     "output_type": "execute_result"
    }
   ],
   "source": [
    "#b\n",
    "group = df['blue'].groupby(df['animal'])\n",
    "group.mean()"
   ]
  },
  {
   "cell_type": "code",
   "execution_count": 5,
   "id": "4830f50e",
   "metadata": {},
   "outputs": [
    {
     "name": "stdout",
     "output_type": "stream",
     "text": [
      "        white   red  blue  green\n",
      "animal                          \n",
      "cat         1   5.0   2.0      3\n",
      "dog         2   7.0   8.0      5\n",
      "duck        4   5.0   6.0      7\n",
      "horse       3   0.0   6.0      7\n",
      "mouse      27  16.0  20.5     18\n"
     ]
    }
   ],
   "source": [
    "#c\n",
    "group2 = df.groupby('animal').sum()\n",
    "print(group2)"
   ]
  },
  {
   "cell_type": "code",
   "execution_count": 6,
   "id": "7d50ad17",
   "metadata": {},
   "outputs": [
    {
     "name": "stdout",
     "output_type": "stream",
     "text": [
      "              white   red  blue\n",
      "animal green                   \n",
      "cat    3          1   5.0   2.0\n",
      "dog    5          2   7.0   8.0\n",
      "duck   7          4   5.0   6.0\n",
      "horse  7          3   0.0   6.0\n",
      "mouse  6         27  16.0  20.5\n"
     ]
    }
   ],
   "source": [
    "#d\n",
    "group3 = df.groupby(['animal','green']).sum()\n",
    "print(group3)"
   ]
  },
  {
   "cell_type": "markdown",
   "id": "259d41f1",
   "metadata": {},
   "source": [
    "2.Create a list with 20 different numerical values and divide it as 4 groups namely poor, satisfactory, good and excellent. \n",
    "Display values with their group names."
   ]
  },
  {
   "cell_type": "code",
   "execution_count": 7,
   "id": "8c7abebf",
   "metadata": {},
   "outputs": [
    {
     "data": {
      "text/html": [
       "<div>\n",
       "<style scoped>\n",
       "    .dataframe tbody tr th:only-of-type {\n",
       "        vertical-align: middle;\n",
       "    }\n",
       "\n",
       "    .dataframe tbody tr th {\n",
       "        vertical-align: top;\n",
       "    }\n",
       "\n",
       "    .dataframe thead th {\n",
       "        text-align: right;\n",
       "    }\n",
       "</style>\n",
       "<table border=\"1\" class=\"dataframe\">\n",
       "  <thead>\n",
       "    <tr style=\"text-align: right;\">\n",
       "      <th></th>\n",
       "      <th>performance</th>\n",
       "      <th>values</th>\n",
       "    </tr>\n",
       "  </thead>\n",
       "  <tbody>\n",
       "    <tr>\n",
       "      <th>0</th>\n",
       "      <td>excellent</td>\n",
       "      <td>[4, 8, 14, 17, 23]</td>\n",
       "    </tr>\n",
       "    <tr>\n",
       "      <th>1</th>\n",
       "      <td>good</td>\n",
       "      <td>[33, 34, 45]</td>\n",
       "    </tr>\n",
       "    <tr>\n",
       "      <th>2</th>\n",
       "      <td>satisfactory</td>\n",
       "      <td>[51, 56, 58, 61, 69]</td>\n",
       "    </tr>\n",
       "    <tr>\n",
       "      <th>3</th>\n",
       "      <td>poor</td>\n",
       "      <td>[80, 83, 84, 89, 90, 92]</td>\n",
       "    </tr>\n",
       "  </tbody>\n",
       "</table>\n",
       "</div>"
      ],
      "text/plain": [
       "    performance                    values\n",
       "0     excellent        [4, 8, 14, 17, 23]\n",
       "1          good              [33, 34, 45]\n",
       "2  satisfactory      [51, 56, 58, 61, 69]\n",
       "3          poor  [80, 83, 84, 89, 90, 92]"
      ]
     },
     "execution_count": 7,
     "metadata": {},
     "output_type": "execute_result"
    }
   ],
   "source": [
    "import pandas as pd\n",
    "lists=[33, 34, 23, 61, 58, 89, 69, 90, 56, 51,\n",
    "       54, 4, 92, 17, 80, 8, 14, 83, 45, 84]\n",
    "lists\n",
    "\n",
    "df6=pd.DataFrame({'performance':['excellent','good','satisfactory','poor'],\n",
    "                  'values':[[4,8,14,17,23],[33,34,45],[51,56,58,61,69],\n",
    "                                    [80,83,84,89,90,92]]})\n",
    "df6"
   ]
  },
  {
   "cell_type": "markdown",
   "id": "7958a047",
   "metadata": {},
   "source": [
    "3. For the given DataFrame df, write a python statement to sort the DataFrame in the descending order of points:house\tyear\tpoints"
   ]
  },
  {
   "cell_type": "code",
   "execution_count": 8,
   "id": "d3240dc5",
   "metadata": {},
   "outputs": [
    {
     "data": {
      "text/html": [
       "<div>\n",
       "<style scoped>\n",
       "    .dataframe tbody tr th:only-of-type {\n",
       "        vertical-align: middle;\n",
       "    }\n",
       "\n",
       "    .dataframe tbody tr th {\n",
       "        vertical-align: top;\n",
       "    }\n",
       "\n",
       "    .dataframe thead th {\n",
       "        text-align: right;\n",
       "    }\n",
       "</style>\n",
       "<table border=\"1\" class=\"dataframe\">\n",
       "  <thead>\n",
       "    <tr style=\"text-align: right;\">\n",
       "      <th></th>\n",
       "      <th>house</th>\n",
       "      <th>year</th>\n",
       "      <th>points</th>\n",
       "    </tr>\n",
       "  </thead>\n",
       "  <tbody>\n",
       "    <tr>\n",
       "      <th>0</th>\n",
       "      <td>raman</td>\n",
       "      <td>2010</td>\n",
       "      <td>500</td>\n",
       "    </tr>\n",
       "    <tr>\n",
       "      <th>1</th>\n",
       "      <td>tagore</td>\n",
       "      <td>2011</td>\n",
       "      <td>600</td>\n",
       "    </tr>\n",
       "    <tr>\n",
       "      <th>2</th>\n",
       "      <td>Ashok</td>\n",
       "      <td>2009</td>\n",
       "      <td>300</td>\n",
       "    </tr>\n",
       "    <tr>\n",
       "      <th>3</th>\n",
       "      <td>raman</td>\n",
       "      <td>2010</td>\n",
       "      <td>400</td>\n",
       "    </tr>\n",
       "    <tr>\n",
       "      <th>4</th>\n",
       "      <td>tagore</td>\n",
       "      <td>2011</td>\n",
       "      <td>550</td>\n",
       "    </tr>\n",
       "  </tbody>\n",
       "</table>\n",
       "</div>"
      ],
      "text/plain": [
       "    house  year  points\n",
       "0   raman  2010     500\n",
       "1  tagore  2011     600\n",
       "2   Ashok  2009     300\n",
       "3   raman  2010     400\n",
       "4  tagore  2011     550"
      ]
     },
     "execution_count": 8,
     "metadata": {},
     "output_type": "execute_result"
    }
   ],
   "source": [
    "df2={'house':['raman','tagore','Ashok','raman','tagore'],\n",
    "     'year':[2010,2011,2009,2010,2011],'points':[500,600,300,400,550]}\n",
    "data=pd.DataFrame(df2,columns=['house','year','points'])\n",
    "data"
   ]
  },
  {
   "cell_type": "code",
   "execution_count": 9,
   "id": "e0704847",
   "metadata": {},
   "outputs": [
    {
     "data": {
      "text/html": [
       "<div>\n",
       "<style scoped>\n",
       "    .dataframe tbody tr th:only-of-type {\n",
       "        vertical-align: middle;\n",
       "    }\n",
       "\n",
       "    .dataframe tbody tr th {\n",
       "        vertical-align: top;\n",
       "    }\n",
       "\n",
       "    .dataframe thead th {\n",
       "        text-align: right;\n",
       "    }\n",
       "</style>\n",
       "<table border=\"1\" class=\"dataframe\">\n",
       "  <thead>\n",
       "    <tr style=\"text-align: right;\">\n",
       "      <th></th>\n",
       "      <th>house</th>\n",
       "      <th>year</th>\n",
       "      <th>points</th>\n",
       "    </tr>\n",
       "  </thead>\n",
       "  <tbody>\n",
       "    <tr>\n",
       "      <th>1</th>\n",
       "      <td>tagore</td>\n",
       "      <td>2011</td>\n",
       "      <td>600</td>\n",
       "    </tr>\n",
       "    <tr>\n",
       "      <th>4</th>\n",
       "      <td>tagore</td>\n",
       "      <td>2011</td>\n",
       "      <td>550</td>\n",
       "    </tr>\n",
       "    <tr>\n",
       "      <th>0</th>\n",
       "      <td>raman</td>\n",
       "      <td>2010</td>\n",
       "      <td>500</td>\n",
       "    </tr>\n",
       "    <tr>\n",
       "      <th>3</th>\n",
       "      <td>raman</td>\n",
       "      <td>2010</td>\n",
       "      <td>400</td>\n",
       "    </tr>\n",
       "    <tr>\n",
       "      <th>2</th>\n",
       "      <td>Ashok</td>\n",
       "      <td>2009</td>\n",
       "      <td>300</td>\n",
       "    </tr>\n",
       "  </tbody>\n",
       "</table>\n",
       "</div>"
      ],
      "text/plain": [
       "    house  year  points\n",
       "1  tagore  2011     600\n",
       "4  tagore  2011     550\n",
       "0   raman  2010     500\n",
       "3   raman  2010     400\n",
       "2   Ashok  2009     300"
      ]
     },
     "execution_count": 9,
     "metadata": {},
     "output_type": "execute_result"
    }
   ],
   "source": [
    "data.sort_values(by=\"points\",ascending=False)"
   ]
  },
  {
   "cell_type": "markdown",
   "id": "c4c11987",
   "metadata": {},
   "source": [
    "4.Write a program to calculate covariance for the given datasets for the number of items purchased with their unit price as under\n",
    "Unit price=[10,20,50,80,100]\n",
    "No_items=[30,45,40,20,40]"
   ]
  },
  {
   "cell_type": "code",
   "execution_count": 10,
   "id": "21a42ac5",
   "metadata": {},
   "outputs": [
    {
     "name": "stdout",
     "output_type": "stream",
     "text": [
      "-75.0\n"
     ]
    }
   ],
   "source": [
    "import math\n",
    "def mean(arr, n): \n",
    "    sum = 0\n",
    "    for i in range(0, n):\n",
    "        sum = sum + arr[i]\n",
    "    return sum / n \n",
    "def covariance(arr1, arr2, n):\n",
    " \n",
    "    sum = 0\n",
    "    mean_arr1 = mean(arr1, n)\n",
    "    mean_arr2 = mean(arr2, n)\n",
    "    for i in range(0, n):\n",
    "        sum = (sum + (arr1[i] - mean_arr1) * (arr2[i] - mean_arr2))\n",
    " \n",
    "    return sum / (n - 1)\n",
    "Unit_price=[10,20,50,80,100]\n",
    "n=len(Unit_price)\n",
    "No_items=[30,45,40,20,40]\n",
    "m=len(No_items)\n",
    "if (m == n):\n",
    "    print(covariance(Unit_price, No_items, m))"
   ]
  },
  {
   "cell_type": "markdown",
   "id": "56f35972",
   "metadata": {},
   "source": [
    "5.For the given DataFrame df1, df2, write python program\n",
    "              id\tcolor\tbrand\n"
   ]
  },
  {
   "cell_type": "code",
   "execution_count": 11,
   "id": "6346b5f7",
   "metadata": {},
   "outputs": [
    {
     "data": {
      "text/html": [
       "<div>\n",
       "<style scoped>\n",
       "    .dataframe tbody tr th:only-of-type {\n",
       "        vertical-align: middle;\n",
       "    }\n",
       "\n",
       "    .dataframe tbody tr th {\n",
       "        vertical-align: top;\n",
       "    }\n",
       "\n",
       "    .dataframe thead th {\n",
       "        text-align: right;\n",
       "    }\n",
       "</style>\n",
       "<table border=\"1\" class=\"dataframe\">\n",
       "  <thead>\n",
       "    <tr style=\"text-align: right;\">\n",
       "      <th></th>\n",
       "      <th>id</th>\n",
       "      <th>color</th>\n",
       "      <th>brand</th>\n",
       "    </tr>\n",
       "  </thead>\n",
       "  <tbody>\n",
       "  </tbody>\n",
       "</table>\n",
       "</div>"
      ],
      "text/plain": [
       "Empty DataFrame\n",
       "Columns: [id, color, brand]\n",
       "Index: []"
      ]
     },
     "execution_count": 11,
     "metadata": {},
     "output_type": "execute_result"
    }
   ],
   "source": [
    "df1=pd.DataFrame({'id':['ball','pencil','pen','mug','ashtray'],\n",
    "                  'color':['white','red','red','black','green'],\n",
    "                  'brand':['OMG','ABC','ABC','POD','POD']})\n",
    "df2=pd.DataFrame({'id':['pencil','pencil','ball','pen'],\n",
    "                  'brand':['OMG','POD','ABC','POD']})\n",
    "#a\n",
    "pd.merge(df1,df2)"
   ]
  },
  {
   "cell_type": "code",
   "execution_count": 12,
   "id": "618eb361",
   "metadata": {},
   "outputs": [
    {
     "data": {
      "text/html": [
       "<div>\n",
       "<style scoped>\n",
       "    .dataframe tbody tr th:only-of-type {\n",
       "        vertical-align: middle;\n",
       "    }\n",
       "\n",
       "    .dataframe tbody tr th {\n",
       "        vertical-align: top;\n",
       "    }\n",
       "\n",
       "    .dataframe thead th {\n",
       "        text-align: right;\n",
       "    }\n",
       "</style>\n",
       "<table border=\"1\" class=\"dataframe\">\n",
       "  <thead>\n",
       "    <tr style=\"text-align: right;\">\n",
       "      <th></th>\n",
       "      <th>id</th>\n",
       "      <th>color</th>\n",
       "      <th>brand</th>\n",
       "    </tr>\n",
       "  </thead>\n",
       "  <tbody>\n",
       "    <tr>\n",
       "      <th>0</th>\n",
       "      <td>ball</td>\n",
       "      <td>white</td>\n",
       "      <td>OMG</td>\n",
       "    </tr>\n",
       "    <tr>\n",
       "      <th>1</th>\n",
       "      <td>pencil</td>\n",
       "      <td>red</td>\n",
       "      <td>ABC</td>\n",
       "    </tr>\n",
       "    <tr>\n",
       "      <th>2</th>\n",
       "      <td>pen</td>\n",
       "      <td>red</td>\n",
       "      <td>ABC</td>\n",
       "    </tr>\n",
       "    <tr>\n",
       "      <th>3</th>\n",
       "      <td>mug</td>\n",
       "      <td>black</td>\n",
       "      <td>POD</td>\n",
       "    </tr>\n",
       "    <tr>\n",
       "      <th>4</th>\n",
       "      <td>ashtray</td>\n",
       "      <td>green</td>\n",
       "      <td>POD</td>\n",
       "    </tr>\n",
       "    <tr>\n",
       "      <th>0</th>\n",
       "      <td>pencil</td>\n",
       "      <td>NaN</td>\n",
       "      <td>OMG</td>\n",
       "    </tr>\n",
       "    <tr>\n",
       "      <th>1</th>\n",
       "      <td>pencil</td>\n",
       "      <td>NaN</td>\n",
       "      <td>POD</td>\n",
       "    </tr>\n",
       "    <tr>\n",
       "      <th>2</th>\n",
       "      <td>ball</td>\n",
       "      <td>NaN</td>\n",
       "      <td>ABC</td>\n",
       "    </tr>\n",
       "    <tr>\n",
       "      <th>3</th>\n",
       "      <td>pen</td>\n",
       "      <td>NaN</td>\n",
       "      <td>POD</td>\n",
       "    </tr>\n",
       "  </tbody>\n",
       "</table>\n",
       "</div>"
      ],
      "text/plain": [
       "        id  color brand\n",
       "0     ball  white   OMG\n",
       "1   pencil    red   ABC\n",
       "2      pen    red   ABC\n",
       "3      mug  black   POD\n",
       "4  ashtray  green   POD\n",
       "0   pencil    NaN   OMG\n",
       "1   pencil    NaN   POD\n",
       "2     ball    NaN   ABC\n",
       "3      pen    NaN   POD"
      ]
     },
     "execution_count": 12,
     "metadata": {},
     "output_type": "execute_result"
    }
   ],
   "source": [
    "#b\n",
    "pd.concat([df1,df2])"
   ]
  },
  {
   "cell_type": "code",
   "execution_count": 13,
   "id": "fc46c173",
   "metadata": {},
   "outputs": [
    {
     "data": {
      "text/html": [
       "<div>\n",
       "<style scoped>\n",
       "    .dataframe tbody tr th:only-of-type {\n",
       "        vertical-align: middle;\n",
       "    }\n",
       "\n",
       "    .dataframe tbody tr th {\n",
       "        vertical-align: top;\n",
       "    }\n",
       "\n",
       "    .dataframe thead th {\n",
       "        text-align: right;\n",
       "    }\n",
       "</style>\n",
       "<table border=\"1\" class=\"dataframe\">\n",
       "  <thead>\n",
       "    <tr style=\"text-align: right;\">\n",
       "      <th></th>\n",
       "      <th>id</th>\n",
       "      <th>color</th>\n",
       "      <th>brand</th>\n",
       "      <th>brand2</th>\n",
       "      <th>id2</th>\n",
       "    </tr>\n",
       "  </thead>\n",
       "  <tbody>\n",
       "    <tr>\n",
       "      <th>0</th>\n",
       "      <td>ball</td>\n",
       "      <td>white</td>\n",
       "      <td>OMG</td>\n",
       "      <td>pencil</td>\n",
       "      <td>OMG</td>\n",
       "    </tr>\n",
       "    <tr>\n",
       "      <th>1</th>\n",
       "      <td>pencil</td>\n",
       "      <td>red</td>\n",
       "      <td>ABC</td>\n",
       "      <td>pencil</td>\n",
       "      <td>POD</td>\n",
       "    </tr>\n",
       "    <tr>\n",
       "      <th>2</th>\n",
       "      <td>pen</td>\n",
       "      <td>red</td>\n",
       "      <td>ABC</td>\n",
       "      <td>ball</td>\n",
       "      <td>ABC</td>\n",
       "    </tr>\n",
       "    <tr>\n",
       "      <th>3</th>\n",
       "      <td>mug</td>\n",
       "      <td>black</td>\n",
       "      <td>POD</td>\n",
       "      <td>pen</td>\n",
       "      <td>POD</td>\n",
       "    </tr>\n",
       "    <tr>\n",
       "      <th>4</th>\n",
       "      <td>ashtray</td>\n",
       "      <td>green</td>\n",
       "      <td>POD</td>\n",
       "      <td>NaN</td>\n",
       "      <td>NaN</td>\n",
       "    </tr>\n",
       "  </tbody>\n",
       "</table>\n",
       "</div>"
      ],
      "text/plain": [
       "        id  color brand  brand2  id2\n",
       "0     ball  white   OMG  pencil  OMG\n",
       "1   pencil    red   ABC  pencil  POD\n",
       "2      pen    red   ABC    ball  ABC\n",
       "3      mug  black   POD     pen  POD\n",
       "4  ashtray  green   POD     NaN  NaN"
      ]
     },
     "execution_count": 13,
     "metadata": {},
     "output_type": "execute_result"
    }
   ],
   "source": [
    "#c\n",
    "df2.columns = ['brand2','id2']\n",
    "df1.join(df2)"
   ]
  },
  {
   "cell_type": "code",
   "execution_count": 14,
   "id": "afd18037",
   "metadata": {},
   "outputs": [
    {
     "data": {
      "text/html": [
       "<div>\n",
       "<style scoped>\n",
       "    .dataframe tbody tr th:only-of-type {\n",
       "        vertical-align: middle;\n",
       "    }\n",
       "\n",
       "    .dataframe tbody tr th {\n",
       "        vertical-align: top;\n",
       "    }\n",
       "\n",
       "    .dataframe thead th {\n",
       "        text-align: right;\n",
       "    }\n",
       "</style>\n",
       "<table border=\"1\" class=\"dataframe\">\n",
       "  <thead>\n",
       "    <tr style=\"text-align: right;\">\n",
       "      <th></th>\n",
       "      <th>brand</th>\n",
       "      <th>brand2</th>\n",
       "      <th>color</th>\n",
       "      <th>id</th>\n",
       "      <th>id2</th>\n",
       "    </tr>\n",
       "  </thead>\n",
       "  <tbody>\n",
       "    <tr>\n",
       "      <th>0</th>\n",
       "      <td>OMG</td>\n",
       "      <td>pencil</td>\n",
       "      <td>white</td>\n",
       "      <td>ball</td>\n",
       "      <td>OMG</td>\n",
       "    </tr>\n",
       "    <tr>\n",
       "      <th>1</th>\n",
       "      <td>ABC</td>\n",
       "      <td>pencil</td>\n",
       "      <td>red</td>\n",
       "      <td>pencil</td>\n",
       "      <td>POD</td>\n",
       "    </tr>\n",
       "    <tr>\n",
       "      <th>2</th>\n",
       "      <td>ABC</td>\n",
       "      <td>ball</td>\n",
       "      <td>red</td>\n",
       "      <td>pen</td>\n",
       "      <td>ABC</td>\n",
       "    </tr>\n",
       "    <tr>\n",
       "      <th>3</th>\n",
       "      <td>POD</td>\n",
       "      <td>pen</td>\n",
       "      <td>black</td>\n",
       "      <td>mug</td>\n",
       "      <td>POD</td>\n",
       "    </tr>\n",
       "    <tr>\n",
       "      <th>4</th>\n",
       "      <td>POD</td>\n",
       "      <td>NaN</td>\n",
       "      <td>green</td>\n",
       "      <td>ashtray</td>\n",
       "      <td>NaN</td>\n",
       "    </tr>\n",
       "  </tbody>\n",
       "</table>\n",
       "</div>"
      ],
      "text/plain": [
       "  brand  brand2  color       id  id2\n",
       "0   OMG  pencil  white     ball  OMG\n",
       "1   ABC  pencil    red   pencil  POD\n",
       "2   ABC    ball    red      pen  ABC\n",
       "3   POD     pen  black      mug  POD\n",
       "4   POD     NaN  green  ashtray  NaN"
      ]
     },
     "execution_count": 14,
     "metadata": {},
     "output_type": "execute_result"
    }
   ],
   "source": [
    "#d\n",
    "df1.combine_first(df2)"
   ]
  },
  {
   "cell_type": "code",
   "execution_count": 15,
   "id": "1d767e83",
   "metadata": {},
   "outputs": [
    {
     "data": {
      "text/html": [
       "<div>\n",
       "<style scoped>\n",
       "    .dataframe tbody tr th:only-of-type {\n",
       "        vertical-align: middle;\n",
       "    }\n",
       "\n",
       "    .dataframe tbody tr th {\n",
       "        vertical-align: top;\n",
       "    }\n",
       "\n",
       "    .dataframe thead th {\n",
       "        text-align: right;\n",
       "    }\n",
       "</style>\n",
       "<table border=\"1\" class=\"dataframe\">\n",
       "  <thead>\n",
       "    <tr style=\"text-align: right;\">\n",
       "      <th></th>\n",
       "      <th>brand</th>\n",
       "      <th>brand2</th>\n",
       "      <th>color</th>\n",
       "      <th>id</th>\n",
       "      <th>id2</th>\n",
       "    </tr>\n",
       "  </thead>\n",
       "  <tbody>\n",
       "    <tr>\n",
       "      <th>0</th>\n",
       "      <td>OMG</td>\n",
       "      <td>pencil</td>\n",
       "      <td>white</td>\n",
       "      <td>ball</td>\n",
       "      <td>OMG</td>\n",
       "    </tr>\n",
       "    <tr>\n",
       "      <th>1</th>\n",
       "      <td>ABC</td>\n",
       "      <td>pencil</td>\n",
       "      <td>red</td>\n",
       "      <td>pencil</td>\n",
       "      <td>POD</td>\n",
       "    </tr>\n",
       "    <tr>\n",
       "      <th>2</th>\n",
       "      <td>ABC</td>\n",
       "      <td>ball</td>\n",
       "      <td>red</td>\n",
       "      <td>pen</td>\n",
       "      <td>ABC</td>\n",
       "    </tr>\n",
       "    <tr>\n",
       "      <th>3</th>\n",
       "      <td>POD</td>\n",
       "      <td>pen</td>\n",
       "      <td>black</td>\n",
       "      <td>mug</td>\n",
       "      <td>POD</td>\n",
       "    </tr>\n",
       "    <tr>\n",
       "      <th>4</th>\n",
       "      <td>POD</td>\n",
       "      <td>NaN</td>\n",
       "      <td>green</td>\n",
       "      <td>ashtray</td>\n",
       "      <td>NaN</td>\n",
       "    </tr>\n",
       "  </tbody>\n",
       "</table>\n",
       "</div>"
      ],
      "text/plain": [
       "  brand  brand2  color       id  id2\n",
       "0   OMG  pencil  white     ball  OMG\n",
       "1   ABC  pencil    red   pencil  POD\n",
       "2   ABC    ball    red      pen  ABC\n",
       "3   POD     pen  black      mug  POD\n",
       "4   POD     NaN  green  ashtray  NaN"
      ]
     },
     "execution_count": 15,
     "metadata": {},
     "output_type": "execute_result"
    }
   ],
   "source": [
    "#e\n",
    "df2.combine_first(df1)"
   ]
  },
  {
   "cell_type": "markdown",
   "id": "a59590d3",
   "metadata": {},
   "source": [
    "6.Write a program to split for the given dataset into groups and display target columns as a list of unique values.(split,apply,combine)\n"
   ]
  },
  {
   "cell_type": "code",
   "execution_count": 16,
   "id": "d7fce077",
   "metadata": {},
   "outputs": [
    {
     "name": "stdout",
     "output_type": "stream",
     "text": [
      "   color status       Value1\n",
      "0  Black     Up        14.35\n",
      "1  White     Up        12.33\n",
      "2  black   Down         23.4\n",
      "3  black     up        18.33\n",
      "4  white   Down  22.34,27.84\n"
     ]
    }
   ],
   "source": [
    "df3=pd.DataFrame({'color':['White','Black','white','white','black','black'],\n",
    "                  'status':['Up','Up','Down','Down','Down','up'],\n",
    "                  'Value1':[12.33,14.35,22.34,27.84,23.40,18.33],\n",
    "                  'Value2':[11.23,31.80,29.99,31.18,18.25,22.44]})\n",
    "new_df = df3[['color', 'status', 'Value1','Value2']].drop_duplicates()\\\n",
    "                         .groupby(['color','status'])['Value1']\\\n",
    "                         .apply(list)\\\n",
    "                         .reset_index()\n",
    "new_df['Value1'] = new_df.apply(lambda x: (','.join([str(s) for s in \n",
    "                                                     x['Value1']])), axis = 1)\n",
    "print(new_df)"
   ]
  },
  {
   "cell_type": "markdown",
   "id": "1b58d9f3",
   "metadata": {},
   "source": [
    "7.For the given DataFrame df, write a python program\n"
   ]
  },
  {
   "cell_type": "code",
   "execution_count": 17,
   "id": "2cf6eb72",
   "metadata": {},
   "outputs": [],
   "source": [
    "df=pd.DataFrame({'color':['white','red','green','red','green'],\n",
    "                 'object':['Pen','pencil','Pencil','ashtray','pen'],\n",
    "                 'price1':[5.56,4.20,1.30,0.56,2.75],\n",
    "                 'price2':[4.75,4.12,1.60,0.75,3.15]})\n",
    "#a\n",
    "group = df['price1'].groupby(df['color'])"
   ]
  },
  {
   "cell_type": "code",
   "execution_count": 18,
   "id": "d2c95ef5",
   "metadata": {},
   "outputs": [
    {
     "data": {
      "text/plain": [
       "color\n",
       "green    2.025\n",
       "red      2.380\n",
       "white    5.560\n",
       "Name: price1, dtype: float64"
      ]
     },
     "execution_count": 18,
     "metadata": {},
     "output_type": "execute_result"
    }
   ],
   "source": [
    "#b\n",
    "group.mean()"
   ]
  },
  {
   "cell_type": "code",
   "execution_count": 19,
   "id": "d9612710",
   "metadata": {},
   "outputs": [
    {
     "data": {
      "text/plain": [
       "{('green', 'Pencil'): [2], ('green', 'pen'): [4], ('red', 'ashtray'): [3], ('red', 'pencil'): [1], ('white', 'Pen'): [0]}"
      ]
     },
     "execution_count": 19,
     "metadata": {},
     "output_type": "execute_result"
    }
   ],
   "source": [
    "#c\n",
    "grp = df['price1'].groupby([df['color'],df['object']])\n",
    "grp.groups"
   ]
  },
  {
   "cell_type": "markdown",
   "id": "5ca2a93a",
   "metadata": {},
   "source": [
    "8. Write python code for given data set Convert to wide frame\n",
    "   color          item           value\n"
   ]
  },
  {
   "cell_type": "code",
   "execution_count": 20,
   "id": "dd879de1",
   "metadata": {},
   "outputs": [
    {
     "data": {
      "text/html": [
       "<div>\n",
       "<style scoped>\n",
       "    .dataframe tbody tr th:only-of-type {\n",
       "        vertical-align: middle;\n",
       "    }\n",
       "\n",
       "    .dataframe tbody tr th {\n",
       "        vertical-align: top;\n",
       "    }\n",
       "\n",
       "    .dataframe thead th {\n",
       "        text-align: right;\n",
       "    }\n",
       "</style>\n",
       "<table border=\"1\" class=\"dataframe\">\n",
       "  <thead>\n",
       "    <tr style=\"text-align: right;\">\n",
       "      <th>item</th>\n",
       "      <th>ball</th>\n",
       "      <th>mug</th>\n",
       "      <th>pen</th>\n",
       "    </tr>\n",
       "    <tr>\n",
       "      <th>color</th>\n",
       "      <th></th>\n",
       "      <th></th>\n",
       "      <th></th>\n",
       "    </tr>\n",
       "  </thead>\n",
       "  <tbody>\n",
       "    <tr>\n",
       "      <th>black</th>\n",
       "      <td>0.879022</td>\n",
       "      <td>0.093324</td>\n",
       "      <td>0.610975</td>\n",
       "    </tr>\n",
       "    <tr>\n",
       "      <th>red</th>\n",
       "      <td>0.394441</td>\n",
       "      <td>0.561832</td>\n",
       "      <td>0.501164</td>\n",
       "    </tr>\n",
       "    <tr>\n",
       "      <th>white</th>\n",
       "      <td>0.091438</td>\n",
       "      <td>0.956225</td>\n",
       "      <td>0.495049</td>\n",
       "    </tr>\n",
       "  </tbody>\n",
       "</table>\n",
       "</div>"
      ],
      "text/plain": [
       "item       ball       mug       pen\n",
       "color                              \n",
       "black  0.879022  0.093324  0.610975\n",
       "red    0.394441  0.561832  0.501164\n",
       "white  0.091438  0.956225  0.495049"
      ]
     },
     "execution_count": 20,
     "metadata": {},
     "output_type": "execute_result"
    }
   ],
   "source": [
    "import numpy as np\n",
    "df4=pd.DataFrame({'color':['white','white','white','red','red',\n",
    "                           'red','black','black','black'],\n",
    "                 'item':['ball','pen','mug','ball','pen','mug',\n",
    "                         'ball','pen','mug'],\n",
    "                  'value':[0.091438,0.495049,0.956225,0.394441,\n",
    "                           0.501164,0.561832,0.879022,0.610975,0.093324]})\n",
    "df5=df4.pivot(index='color', columns='item', values='value')\n",
    "df5"
   ]
  },
  {
   "cell_type": "code",
   "execution_count": null,
   "id": "2301c0f0",
   "metadata": {},
   "outputs": [],
   "source": []
  }
 ],
 "metadata": {
  "kernelspec": {
   "display_name": "Python 3 (ipykernel)",
   "language": "python",
   "name": "python3"
  },
  "language_info": {
   "codemirror_mode": {
    "name": "ipython",
    "version": 3
   },
   "file_extension": ".py",
   "mimetype": "text/x-python",
   "name": "python",
   "nbconvert_exporter": "python",
   "pygments_lexer": "ipython3",
   "version": "3.9.7"
  }
 },
 "nbformat": 4,
 "nbformat_minor": 5
}
