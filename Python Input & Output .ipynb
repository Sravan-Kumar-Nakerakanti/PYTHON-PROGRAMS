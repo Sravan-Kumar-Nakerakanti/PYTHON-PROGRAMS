{
 "cells": [
  {
   "cell_type": "code",
   "execution_count": 1,
   "id": "ee4d83fb",
   "metadata": {},
   "outputs": [
    {
     "name": "stdout",
     "output_type": "stream",
     "text": [
      "Enter First number:5\n",
      "Enter Second Number:6\n",
      "The Sum: 11\n"
     ]
    }
   ],
   "source": [
    "x=input(\"Enter First number:\")\n",
    "y=input(\"Enter Second Number:\")\n",
    "i=int(x)\n",
    "j=int(y)\n",
    "print(\"The Sum:\", i+j)"
   ]
  },
  {
   "cell_type": "code",
   "execution_count": 2,
   "id": "3b01745d",
   "metadata": {},
   "outputs": [
    {
     "name": "stdout",
     "output_type": "stream",
     "text": [
      "Enter the Employee number:52199\n",
      "Enter the Employee name:haneesh\n",
      "Enter the employee salary:30000\n",
      "Enter the employee address:Hyderabad\n",
      "Is employee married?[True|False]:False\n",
      "Please confirm your provided information\n",
      "Employee number: 52199\n",
      "Employee name: haneesh\n",
      "Employee salary: 30000.0\n",
      " Employee address: Hyderabad\n",
      "Employee married?: False\n"
     ]
    }
   ],
   "source": [
    "eno=int(input(\"Enter the Employee number:\"))\n",
    "ename=input(\"Enter the Employee name:\")\n",
    "esal=float(input(\"Enter the employee salary:\"))\n",
    "eaddr=input(\"Enter the employee address:\")\n",
    "married=eval(input(\"Is employee married?[True|False]:\"))\n",
    "print(\"Please confirm your provided information\")\n",
    "print(\"Employee number:\", eno)\n",
    "print(\"Employee name:\", ename)\n",
    "print(\"Employee salary:\", esal)\n",
    "print(\" Employee address:\", eaddr)\n",
    "print(\"Employee married?:\", married)"
   ]
  },
  {
   "cell_type": "code",
   "execution_count": 3,
   "id": "02e77d90",
   "metadata": {},
   "outputs": [
    {
     "name": "stdout",
     "output_type": "stream",
     "text": [
      "Enter two numbers:15 19\n",
      "The Sum: 34\n"
     ]
    }
   ],
   "source": [
    "a,b=[int(x) for x in input(\"Enter two numbers:\").split()]\n",
    "print(\"The Sum:\",a+b)"
   ]
  },
  {
   "cell_type": "code",
   "execution_count": 5,
   "id": "8a5e6511",
   "metadata": {},
   "outputs": [
    {
     "name": "stdout",
     "output_type": "stream",
     "text": [
      "Enter two values\n",
      "48, 26\n",
      "The sum: 74\n"
     ]
    }
   ],
   "source": [
    "p, q = [int(x) for x in input(\"Enter two values\\n\").split(', ')]\n",
    "print(\"The sum:\",p+q)"
   ]
  },
  {
   "cell_type": "code",
   "execution_count": 6,
   "id": "312e23e8",
   "metadata": {},
   "outputs": [
    {
     "name": "stdout",
     "output_type": "stream",
     "text": [
      "Enter the three values with comma separation:14,59,22\n",
      "the sum: 95.0\n"
     ]
    }
   ],
   "source": [
    "g,s,t=[float(x) for x in input(\"Enter the three values with comma separation:\").split(\",\")]\n",
    "print(\"the sum:\",g+s+t)"
   ]
  },
  {
   "cell_type": "code",
   "execution_count": 8,
   "id": "4368000e",
   "metadata": {},
   "outputs": [
    {
     "name": "stdout",
     "output_type": "stream",
     "text": [
      "nanotech\n",
      "nano.tech nano.tech nano.tech \n"
     ]
    }
   ],
   "source": [
    "print('nano'+'tech')\n",
    "print(3*'nano.tech ')"
   ]
  },
  {
   "cell_type": "code",
   "execution_count": 9,
   "id": "6d79c484",
   "metadata": {},
   "outputs": [
    {
     "name": "stdout",
     "output_type": "stream",
     "text": [
      "values are: 76.5 29.8 66.8\n"
     ]
    }
   ],
   "source": [
    "a,b,c=76.5,29.8,66.8\n",
    "print(\"values are:\",a,b,c)"
   ]
  },
  {
   "cell_type": "code",
   "execution_count": 1,
   "id": "f4dddc43",
   "metadata": {},
   "outputs": [
    {
     "name": "stdout",
     "output_type": "stream",
     "text": [
      "Requirement already satisfied: nbconvert[webpdf] in c:\\users\\sridhar.n\\anaconda3\\lib\\site-packages (6.1.0)\n",
      "Requirement already satisfied: testpath in c:\\users\\sridhar.n\\anaconda3\\lib\\site-packages (from nbconvert[webpdf]) (0.5.0)\n",
      "Requirement already satisfied: jupyter-core in c:\\users\\sridhar.n\\anaconda3\\lib\\site-packages (from nbconvert[webpdf]) (4.8.1)\n",
      "Requirement already satisfied: nbclient<0.6.0,>=0.5.0 in c:\\users\\sridhar.n\\anaconda3\\lib\\site-packages (from nbconvert[webpdf]) (0.5.3)\n",
      "Requirement already satisfied: traitlets>=5.0 in c:\\users\\sridhar.n\\anaconda3\\lib\\site-packages (from nbconvert[webpdf]) (5.1.0)\n",
      "Requirement already satisfied: mistune<2,>=0.8.1 in c:\\users\\sridhar.n\\anaconda3\\lib\\site-packages (from nbconvert[webpdf]) (0.8.4)\n",
      "Requirement already satisfied: jinja2>=2.4 in c:\\users\\sridhar.n\\anaconda3\\lib\\site-packages (from nbconvert[webpdf]) (2.11.3)\n",
      "Requirement already satisfied: pygments>=2.4.1 in c:\\users\\sridhar.n\\anaconda3\\lib\\site-packages (from nbconvert[webpdf]) (2.10.0)\n",
      "Requirement already satisfied: entrypoints>=0.2.2 in c:\\users\\sridhar.n\\anaconda3\\lib\\site-packages (from nbconvert[webpdf]) (0.3)\n",
      "Requirement already satisfied: pandocfilters>=1.4.1 in c:\\users\\sridhar.n\\anaconda3\\lib\\site-packages (from nbconvert[webpdf]) (1.4.3)\n",
      "Requirement already satisfied: bleach in c:\\users\\sridhar.n\\anaconda3\\lib\\site-packages (from nbconvert[webpdf]) (4.0.0)\n",
      "Requirement already satisfied: defusedxml in c:\\users\\sridhar.n\\anaconda3\\lib\\site-packages (from nbconvert[webpdf]) (0.7.1)\n",
      "Requirement already satisfied: nbformat>=4.4 in c:\\users\\sridhar.n\\anaconda3\\lib\\site-packages (from nbconvert[webpdf]) (5.1.3)\n",
      "Requirement already satisfied: jupyterlab-pygments in c:\\users\\sridhar.n\\anaconda3\\lib\\site-packages (from nbconvert[webpdf]) (0.1.2)\n",
      "Collecting pyppeteer==0.2.2\n",
      "  Downloading pyppeteer-0.2.2-py3-none-any.whl (145 kB)\n",
      "Collecting pyee<8.0.0,>=7.0.1\n",
      "  Downloading pyee-7.0.4-py2.py3-none-any.whl (12 kB)\n",
      "Requirement already satisfied: urllib3<2.0.0,>=1.25.8 in c:\\users\\sridhar.n\\anaconda3\\lib\\site-packages (from pyppeteer==0.2.2->nbconvert[webpdf]) (1.26.7)\n",
      "Requirement already satisfied: appdirs<2.0.0,>=1.4.3 in c:\\users\\sridhar.n\\anaconda3\\lib\\site-packages (from pyppeteer==0.2.2->nbconvert[webpdf]) (1.4.4)\n",
      "Collecting websockets<9.0,>=8.1\n",
      "  Downloading websockets-8.1.tar.gz (58 kB)\n",
      "Requirement already satisfied: tqdm<5.0.0,>=4.42.1 in c:\\users\\sridhar.n\\anaconda3\\lib\\site-packages (from pyppeteer==0.2.2->nbconvert[webpdf]) (4.62.3)\n",
      "Requirement already satisfied: MarkupSafe>=0.23 in c:\\users\\sridhar.n\\anaconda3\\lib\\site-packages (from jinja2>=2.4->nbconvert[webpdf]) (1.1.1)\n",
      "Requirement already satisfied: jupyter-client>=6.1.5 in c:\\users\\sridhar.n\\anaconda3\\lib\\site-packages (from nbclient<0.6.0,>=0.5.0->nbconvert[webpdf]) (6.1.12)\n",
      "Requirement already satisfied: async-generator in c:\\users\\sridhar.n\\anaconda3\\lib\\site-packages (from nbclient<0.6.0,>=0.5.0->nbconvert[webpdf]) (1.10)\n",
      "Requirement already satisfied: nest-asyncio in c:\\users\\sridhar.n\\anaconda3\\lib\\site-packages (from nbclient<0.6.0,>=0.5.0->nbconvert[webpdf]) (1.5.1)\n",
      "Requirement already satisfied: tornado>=4.1 in c:\\users\\sridhar.n\\anaconda3\\lib\\site-packages (from jupyter-client>=6.1.5->nbclient<0.6.0,>=0.5.0->nbconvert[webpdf]) (6.1)\n",
      "Requirement already satisfied: python-dateutil>=2.1 in c:\\users\\sridhar.n\\anaconda3\\lib\\site-packages (from jupyter-client>=6.1.5->nbclient<0.6.0,>=0.5.0->nbconvert[webpdf]) (2.8.2)\n",
      "Requirement already satisfied: pyzmq>=13 in c:\\users\\sridhar.n\\anaconda3\\lib\\site-packages (from jupyter-client>=6.1.5->nbclient<0.6.0,>=0.5.0->nbconvert[webpdf]) (22.2.1)\n",
      "Requirement already satisfied: pywin32>=1.0 in c:\\users\\sridhar.n\\anaconda3\\lib\\site-packages (from jupyter-core->nbconvert[webpdf]) (228)\n",
      "Requirement already satisfied: jsonschema!=2.5.0,>=2.4 in c:\\users\\sridhar.n\\anaconda3\\lib\\site-packages (from nbformat>=4.4->nbconvert[webpdf]) (3.2.0)\n",
      "Requirement already satisfied: ipython-genutils in c:\\users\\sridhar.n\\anaconda3\\lib\\site-packages (from nbformat>=4.4->nbconvert[webpdf]) (0.2.0)\n",
      "Requirement already satisfied: six>=1.11.0 in c:\\users\\sridhar.n\\anaconda3\\lib\\site-packages (from jsonschema!=2.5.0,>=2.4->nbformat>=4.4->nbconvert[webpdf]) (1.16.0)\n",
      "Requirement already satisfied: setuptools in c:\\users\\sridhar.n\\anaconda3\\lib\\site-packages (from jsonschema!=2.5.0,>=2.4->nbformat>=4.4->nbconvert[webpdf]) (58.0.4)\n",
      "Requirement already satisfied: pyrsistent>=0.14.0 in c:\\users\\sridhar.n\\anaconda3\\lib\\site-packages (from jsonschema!=2.5.0,>=2.4->nbformat>=4.4->nbconvert[webpdf]) (0.18.0)\n",
      "Requirement already satisfied: attrs>=17.4.0 in c:\\users\\sridhar.n\\anaconda3\\lib\\site-packages (from jsonschema!=2.5.0,>=2.4->nbformat>=4.4->nbconvert[webpdf]) (21.2.0)\n",
      "Requirement already satisfied: colorama in c:\\users\\sridhar.n\\anaconda3\\lib\\site-packages (from tqdm<5.0.0,>=4.42.1->pyppeteer==0.2.2->nbconvert[webpdf]) (0.4.4)\n",
      "Requirement already satisfied: webencodings in c:\\users\\sridhar.n\\anaconda3\\lib\\site-packages (from bleach->nbconvert[webpdf]) (0.5.1)\n",
      "Requirement already satisfied: packaging in c:\\users\\sridhar.n\\anaconda3\\lib\\site-packages (from bleach->nbconvert[webpdf]) (21.0)\n",
      "Requirement already satisfied: pyparsing>=2.0.2 in c:\\users\\sridhar.n\\anaconda3\\lib\\site-packages (from packaging->bleach->nbconvert[webpdf]) (3.0.4)\n",
      "Building wheels for collected packages: websockets\n",
      "  Building wheel for websockets (setup.py): started\n",
      "  Building wheel for websockets (setup.py): finished with status 'done'\n",
      "  Created wheel for websockets: filename=websockets-8.1-cp39-cp39-win_amd64.whl size=62758 sha256=86525efb393c470930bc7ba58d3aa74a98e8f80900fc06fae9d844381a18122f\n",
      "  Stored in directory: c:\\users\\sridhar.n\\appdata\\local\\pip\\cache\\wheels\\d8\\b9\\a0\\b97b211aeda2ebd6ac2e43fc300d308dbf1f9df520ed390cae\n",
      "Successfully built websockets\n",
      "Installing collected packages: websockets, pyee, pyppeteer\n",
      "Successfully installed pyee-7.0.4 pyppeteer-0.2.2 websockets-8.1\n",
      "Note: you may need to restart the kernel to use updated packages.\n"
     ]
    }
   ],
   "source": [
    "pip install nbconvert[webpdf]"
   ]
  },
  {
   "cell_type": "code",
   "execution_count": null,
   "id": "6c69f3b7",
   "metadata": {},
   "outputs": [],
   "source": []
  }
 ],
 "metadata": {
  "kernelspec": {
   "display_name": "Python 3 (ipykernel)",
   "language": "python",
   "name": "python3"
  },
  "language_info": {
   "codemirror_mode": {
    "name": "ipython",
    "version": 3
   },
   "file_extension": ".py",
   "mimetype": "text/x-python",
   "name": "python",
   "nbconvert_exporter": "python",
   "pygments_lexer": "ipython3",
   "version": "3.9.7"
  }
 },
 "nbformat": 4,
 "nbformat_minor": 5
}
