{
 "cells": [
  {
   "cell_type": "code",
   "execution_count": 1,
   "id": "9b0ee1f3",
   "metadata": {},
   "outputs": [
    {
     "name": "stdout",
     "output_type": "stream",
     "text": [
      "33\n",
      "3.872983346207417\n"
     ]
    }
   ],
   "source": [
    "import math\n",
    "print(math.ceil(32.8))\n",
    "print(math.sqrt(15))"
   ]
  },
  {
   "cell_type": "code",
   "execution_count": 4,
   "id": "a34b439c",
   "metadata": {},
   "outputs": [
    {
     "name": "stdout",
     "output_type": "stream",
     "text": [
      "10.0\n"
     ]
    }
   ],
   "source": [
    "print(math.fmod(25,15))"
   ]
  },
  {
   "cell_type": "code",
   "execution_count": null,
   "id": "641e0d50",
   "metadata": {},
   "outputs": [],
   "source": []
  }
 ],
 "metadata": {
  "kernelspec": {
   "display_name": "Python 3 (ipykernel)",
   "language": "python",
   "name": "python3"
  },
  "language_info": {
   "codemirror_mode": {
    "name": "ipython",
    "version": 3
   },
   "file_extension": ".py",
   "mimetype": "text/x-python",
   "name": "python",
   "nbconvert_exporter": "python",
   "pygments_lexer": "ipython3",
   "version": "3.9.7"
  }
 },
 "nbformat": 4,
 "nbformat_minor": 5
}
