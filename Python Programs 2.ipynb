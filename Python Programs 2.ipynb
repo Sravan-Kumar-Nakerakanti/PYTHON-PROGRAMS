{
 "cells": [
  {
   "cell_type": "code",
   "execution_count": 1,
   "id": "f86d8ed3",
   "metadata": {},
   "outputs": [
    {
     "data": {
      "text/plain": [
       "array([[ 0,  1,  2,  3,  4],\n",
       "       [ 5,  6,  7,  8,  9],\n",
       "       [10, 11, 12, 13, 14],\n",
       "       [15, 16, 17, 18, 19]])"
      ]
     },
     "execution_count": 1,
     "metadata": {},
     "output_type": "execute_result"
    }
   ],
   "source": [
    "import numpy as np\n",
    "array = np.arange(20).reshape(4,5)\n",
    "array"
   ]
  },
  {
   "cell_type": "code",
   "execution_count": 2,
   "id": "9cac762e",
   "metadata": {},
   "outputs": [
    {
     "name": "stdout",
     "output_type": "stream",
     "text": [
      "[[[ 9  6]\n",
      "  [ 4  8]\n",
      "  [ 7  2]]\n",
      "\n",
      " [[ 3  5]\n",
      "  [12 20]\n",
      "  [18 15]]]\n"
     ]
    }
   ],
   "source": [
    "arr = np.array([9,6,4,8,7,2,3,5,12,20,18,15])\n",
    "new_array = arr.reshape(2,3,2)\n",
    "print(new_array)"
   ]
  },
  {
   "cell_type": "code",
   "execution_count": 3,
   "id": "5591e2f5",
   "metadata": {},
   "outputs": [
    {
     "name": "stdout",
     "output_type": "stream",
     "text": [
      "[[ 2  3  4]\n",
      " [ 5  6  7]\n",
      " [ 8  9 10]]\n"
     ]
    }
   ],
   "source": [
    "x = np.arange(2,11).reshape(3,3)\n",
    "print(x)"
   ]
  },
  {
   "cell_type": "code",
   "execution_count": 5,
   "id": "29f36b94",
   "metadata": {},
   "outputs": [
    {
     "name": "stdout",
     "output_type": "stream",
     "text": [
      "[21 22 23 24 25 26 27 28 29 30]\n",
      "reverse array: \n",
      "[30 29 28 27 26 25 24 23 22 21]\n"
     ]
    }
   ],
   "source": [
    "ori_arr = np.arange(21,31)\n",
    "print(ori_arr)\n",
    "ori_arr = ori_arr[::-1]\n",
    "print(\"reverse array: \")\n",
    "print(ori_arr)"
   ]
  },
  {
   "cell_type": "code",
   "execution_count": 6,
   "id": "add4e453",
   "metadata": {},
   "outputs": [
    {
     "name": "stdout",
     "output_type": "stream",
     "text": [
      "[[1. 1. 1. 1. 1.]\n",
      " [1. 1. 1. 1. 1.]\n",
      " [1. 1. 1. 1. 1.]\n",
      " [1. 1. 1. 1. 1.]\n",
      " [1. 1. 1. 1. 1.]]\n",
      "new_arr:\n",
      "[[1. 1. 1. 1. 1.]\n",
      " [1. 0. 0. 0. 1.]\n",
      " [1. 0. 0. 0. 1.]\n",
      " [1. 0. 0. 0. 1.]\n",
      " [1. 1. 1. 1. 1.]]\n"
     ]
    }
   ],
   "source": [
    "ori_arr = np.ones((5,5))\n",
    "print(ori_arr)\n",
    "ori_arr[1:-1,1:-1]=0\n",
    "print(\"new_arr:\")\n",
    "print(ori_arr)"
   ]
  },
  {
   "cell_type": "code",
   "execution_count": 8,
   "id": "fa9d872a",
   "metadata": {},
   "outputs": [
    {
     "data": {
      "text/plain": [
       "array([[4, 3, 5, 1],\n",
       "       [0, 3, 6, 5],\n",
       "       [0, 1, 6, 5],\n",
       "       [6, 0, 5, 1]])"
      ]
     },
     "execution_count": 8,
     "metadata": {},
     "output_type": "execute_result"
    }
   ],
   "source": [
    "A = np.random.randint(7,size=(4,4))\n",
    "A"
   ]
  },
  {
   "cell_type": "code",
   "execution_count": 9,
   "id": "bd29e6a5",
   "metadata": {},
   "outputs": [
    {
     "data": {
      "text/plain": [
       "array([[4, 3, 5, 1]])"
      ]
     },
     "execution_count": 9,
     "metadata": {},
     "output_type": "execute_result"
    }
   ],
   "source": [
    "B=A[0:1]\n",
    "B"
   ]
  },
  {
   "cell_type": "code",
   "execution_count": 10,
   "id": "a29c3244",
   "metadata": {},
   "outputs": [
    {
     "data": {
      "text/plain": [
       "array([[4, 3, 5, 1],\n",
       "       [0, 3, 6, 5]])"
      ]
     },
     "execution_count": 10,
     "metadata": {},
     "output_type": "execute_result"
    }
   ],
   "source": [
    "C=A[0:2]\n",
    "C"
   ]
  },
  {
   "cell_type": "code",
   "execution_count": 11,
   "id": "5bc5956a",
   "metadata": {},
   "outputs": [
    {
     "data": {
      "text/plain": [
       "array([[0, 1, 6, 5],\n",
       "       [6, 0, 5, 1]])"
      ]
     },
     "execution_count": 11,
     "metadata": {},
     "output_type": "execute_result"
    }
   ],
   "source": [
    "D=A[2:]\n",
    "D"
   ]
  },
  {
   "cell_type": "code",
   "execution_count": 12,
   "id": "f9ddd572",
   "metadata": {},
   "outputs": [
    {
     "data": {
      "text/plain": [
       "array([[ 0,  3, 30,  5],\n",
       "       [ 0,  0, 30,  5]])"
      ]
     },
     "execution_count": 12,
     "metadata": {},
     "output_type": "execute_result"
    }
   ],
   "source": [
    "A[0:2]*A[2:]"
   ]
  },
  {
   "cell_type": "code",
   "execution_count": 14,
   "id": "0675e384",
   "metadata": {},
   "outputs": [
    {
     "name": "stdout",
     "output_type": "stream",
     "text": [
      "[[6 3 0 5]\n",
      " [5 6 1 5]\n",
      " [3 3 5 2]]\n",
      "The highest sum column is 1\n"
     ]
    }
   ],
   "source": [
    "a = np.random.randint(7,size=(3,4))\n",
    "b =list(a.sum(axis=1))\n",
    "print(a)\n",
    "print(\"The highest sum column is {}\".format(b.index(max(b))))"
   ]
  },
  {
   "cell_type": "code",
   "execution_count": null,
   "id": "3f705257",
   "metadata": {},
   "outputs": [],
   "source": []
  }
 ],
 "metadata": {
  "kernelspec": {
   "display_name": "Python 3 (ipykernel)",
   "language": "python",
   "name": "python3"
  },
  "language_info": {
   "codemirror_mode": {
    "name": "ipython",
    "version": 3
   },
   "file_extension": ".py",
   "mimetype": "text/x-python",
   "name": "python",
   "nbconvert_exporter": "python",
   "pygments_lexer": "ipython3",
   "version": "3.9.7"
  }
 },
 "nbformat": 4,
 "nbformat_minor": 5
}
