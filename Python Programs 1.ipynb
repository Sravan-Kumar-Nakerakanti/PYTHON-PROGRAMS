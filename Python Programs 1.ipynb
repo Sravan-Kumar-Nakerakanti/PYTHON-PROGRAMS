{
 "cells": [
  {
   "cell_type": "code",
   "execution_count": 1,
   "id": "554b6132",
   "metadata": {},
   "outputs": [
    {
     "name": "stdout",
     "output_type": "stream",
     "text": [
      "enter an integer for today's day 0-6: 5\n",
      "thursday\n",
      "enter the number of future days: 1\n",
      "invalid\n"
     ]
    }
   ],
   "source": [
    "todaysday=int(input(\"enter an integer for today's day 0-6: \"))\n",
    "if todaysday==0:\n",
    "    print(\"Saturday\")\n",
    "elif todaysday==1:\n",
    "    print(\"Sunday\")\n",
    "elif todaysday==2:\n",
    "    print(\"Monday\")\n",
    "elif todaysday==3:\n",
    "    print(\"tuesday\")\n",
    "elif todaysday==4:\n",
    "    print(\"wednesday\")\n",
    "elif todaysday==5:\n",
    "    print(\"thursday\")\n",
    "elif todaysday==6:\n",
    "    print(\"friday\")\n",
    "else:\n",
    "    print(\"invalid\")\n",
    "i =int(input(\"enter the number of future days: \"))\n",
    "x=(todaysday+i)-7\n",
    "if x == 0:\n",
    "    print(\"future day is saturday\")\n",
    "elif x == 1:\n",
    "    print(\"future day is sunday\")\n",
    "elif x == 2:\n",
    "    print(\"future day is monday\")\n",
    "elif x == 3:\n",
    "    print(\"future day is tuesday\")\n",
    "elif x == 4:\n",
    "    print(\"future day is wednesday\")\n",
    "elif x == 5:\n",
    "    print(\"future day is thursday\")\n",
    "elif x == 6:\n",
    "    print(\"future day is friday\")\n",
    "else:\n",
    "    print(\"invalid\")"
   ]
  },
  {
   "cell_type": "code",
   "execution_count": 2,
   "id": "9ea760d8",
   "metadata": {},
   "outputs": [
    {
     "name": "stdout",
     "output_type": "stream",
     "text": [
      "Enter the length of the room in feet or metres: 25\n",
      "Enter the width of the room in feet or metres: 36\n",
      "The area of the room is 900.0 square feet or square metres\n"
     ]
    }
   ],
   "source": [
    "length = float (input (\"Enter the length of the room in feet or metres: \")) \n",
    "width = float (input (\"Enter the width of the room in feet or metres: \")) \n",
    "area = length * width\n",
    "print (\"The area of the room is\", area, \"square feet or square metres\") "
   ]
  },
  {
   "cell_type": "code",
   "execution_count": 3,
   "id": "3519bea6",
   "metadata": {},
   "outputs": [
    {
     "name": "stdout",
     "output_type": "stream",
     "text": [
      "Enter the length of the field in feet: 412.55\n",
      "Enter the width of the field in feet: 253.44\n",
      "The area of the field is 2.4002909090909093 acres\n"
     ]
    }
   ],
   "source": [
    "sqft_per_acre = 43560\n",
    "length = float (input (\"Enter the length of the field in feet: \")) \n",
    "width = float (input (\"Enter the width of the field in feet: \")) \n",
    "acres = length * width/sqft_per_acre\n",
    "print (\"The area of the field is\", acres, \"acres\")"
   ]
  },
  {
   "cell_type": "code",
   "execution_count": 4,
   "id": "5d17a6f9",
   "metadata": {},
   "outputs": [
    {
     "name": "stdout",
     "output_type": "stream",
     "text": [
      "Enter a positive integer: 15\n",
      "The sum of the first 15 positive integers is 120.0\n"
     ]
    }
   ],
   "source": [
    "n = int (input (\"Enter a positive integer: \")) \n",
    "sm = n * (n + 1) / 2  \n",
    "print (\"The sum of the first\", n, \"positive integers is\", sm) "
   ]
  },
  {
   "cell_type": "code",
   "execution_count": 5,
   "id": "6461d97c",
   "metadata": {},
   "outputs": [
    {
     "name": "stdout",
     "output_type": "stream",
     "text": [
      "First number : 9\n",
      "Second number : 4\n",
      "Third number : 6\n",
      "ALL UNIQUE\n"
     ]
    }
   ],
   "source": [
    "x = input(\"First number : \")\n",
    "y = input(\"Second number : \")\n",
    "z = input(\"Third number : \")\n",
    "if x == y or x == z or y == z:\n",
    " print (\"DUPLICATES\")\n",
    "else:\n",
    " print (\"ALL UNIQUE\")"
   ]
  },
  {
   "cell_type": "code",
   "execution_count": 6,
   "id": "cc26e162",
   "metadata": {},
   "outputs": [
    {
     "name": "stdout",
     "output_type": "stream",
     "text": [
      "first number : 1\n",
      "second number : 5\n",
      "third number : 9\n",
      "False\n"
     ]
    }
   ],
   "source": [
    "x = input(\"first number : \")\n",
    "y = input(\"second number : \")\n",
    "z = input(\"third number : \")\n",
    "if x > y and x > z:\n",
    "     max = x\n",
    "     if y > z:\n",
    "        mid = y\n",
    "        min = z\n",
    "     else:\n",
    "        mid = z\n",
    "        min = y\n",
    "elif y > x and y > z:\n",
    "     max = y\n",
    "     if x > z:\n",
    "        mid = x\n",
    "        min = z\n",
    "     else:\n",
    "        mid = z\n",
    "        min = x\n",
    "else:\n",
    "    max = z\n",
    "    if y > x:\n",
    "        mid = y\n",
    "        min = x\n",
    "    else:\n",
    "        mid = x\n",
    "        min = y\n",
    "print (\"min, \"<= \", mid, \" <=\", max\")"
   ]
  },
  {
   "cell_type": "code",
   "execution_count": 7,
   "id": "246e916f",
   "metadata": {},
   "outputs": [
    {
     "name": "stdout",
     "output_type": "stream",
     "text": [
      "First number : 5\n",
      "Second number : 18\n",
      "Third number : 64\n",
      "The largest is  64\n"
     ]
    }
   ],
   "source": [
    "x = input(\"First number : \")\n",
    "y = input(\"Second number : \")\n",
    "z = input(\"Third number : \")\n",
    "if x > y and x > z:\n",
    "        max = x\n",
    "elif y > x and y > z:\n",
    "        max = y\n",
    "else:\n",
    "        max = z\n",
    "print (\"The largest is \", max)"
   ]
  },
  {
   "cell_type": "code",
   "execution_count": 8,
   "id": "cde60d60",
   "metadata": {},
   "outputs": [
    {
     "name": "stdout",
     "output_type": "stream",
     "text": [
      "Enter a word: hard\n",
      "The word \"hard\" is not a palindrome\n"
     ]
    }
   ],
   "source": [
    "word = input('Enter a word: ')\n",
    "\n",
    "n = len(word)\n",
    "m = n//2\n",
    "print('The word \"', word, '\" is ', sep='', end='')\n",
    "for i in range(m):\n",
    "    if word[i] != word[-1-i]:\n",
    "        print('not ', end='')\n",
    "        break\n",
    "print('a palindrome')"
   ]
  },
  {
   "cell_type": "code",
   "execution_count": null,
   "id": "4ed873b7",
   "metadata": {},
   "outputs": [],
   "source": []
  }
 ],
 "metadata": {
  "kernelspec": {
   "display_name": "Python 3 (ipykernel)",
   "language": "python",
   "name": "python3"
  },
  "language_info": {
   "codemirror_mode": {
    "name": "ipython",
    "version": 3
   },
   "file_extension": ".py",
   "mimetype": "text/x-python",
   "name": "python",
   "nbconvert_exporter": "python",
   "pygments_lexer": "ipython3",
   "version": "3.9.7"
  }
 },
 "nbformat": 4,
 "nbformat_minor": 5
}
